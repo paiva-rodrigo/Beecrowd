{
 "cells": [
  {
   "cell_type": "code",
   "execution_count": null,
   "metadata": {},
   "outputs": [],
   "source": []
  },
  {
   "cell_type": "code",
   "execution_count": null,
   "metadata": {},
   "outputs": [],
   "source": [
    "def Ganhador(R):\n",
    "    if R[0] == R[1] and R[1] == R[2]: return 0\n",
    "    elif R[0] == 'papel' and R[1] == 'pedra' and R[2] == 'tesoura': return 0\n",
    "    elif R[0] == 'papel' and R[1] == 'tesoura' and R[2] == 'pedra': return 0\n",
    "    elif R[0] == 'papel' and R[1] == 'tesoura' and R[2] == 'tesoura': return 0\n",
    "    elif R[0] == 'papel' and R[1] == 'papel' and R[2] == 'pedra': return 0\n",
    "    elif R[0] == 'papel' and R[1] == 'pedra' and R[2] == 'papel': return 0\n",
    "    \n",
    "    \n",
    "    elif R[0] == 'pedra' and R[1] == 'papel' and R[2] == 'tesoura': return 0\n",
    "    elif R[0] == 'pedra' and R[1] == 'tesoura' and R[2] == 'papel': return 0\n",
    "    elif R[0] == 'pedra' and R[1] == 'papel' and R[2] == 'papel': return 0\n",
    "    elif R[0] == 'pedra' and R[1] == 'pedra' and R[2] == 'tesoura': return 0\n",
    "    elif R[0] == 'pedra' and R[1] == 'tesoura' and R[2] == 'pedra': return 0\n",
    "    \n",
    "    \n",
    "    elif R[0] == 'tesoura' and R[1] == 'papel' and R[2] == 'pedra': return 0\n",
    "    elif R[0] == 'tesoura' and R[1] == 'pedra' and R[2] == 'papel': return 0\n",
    "    elif R[0] == 'tesoura' and R[1] == 'pedra' and R[2] == 'pedra': return 0\n",
    "    elif R[0] == 'tesoura' and R[1] == 'tesoura' and R[2] == 'papel': return 0\n",
    "    elif R[0] == 'tesoura' and R[1] == 'papel' and R[2] == 'tesoura': return 0\n",
    "    \n",
    "    \n",
    "    elif R[0] == 'tesoura' and R[1] == 'papel' and R[2] == 'papel': return 1\n",
    "    elif R[0] == 'papel' and R[1] == 'pedra' and R[2] == 'pedra': return 1\n",
    "    elif R[0] == 'pedra' and R[1] == 'tesoura' and R[2] == 'tesoura': return 1\n",
    "    \n",
    "    \n",
    "    elif R[0] == 'pedra' and R[1] == 'papel' and R[2] == 'pedra': return 2\n",
    "    elif R[0] == 'tesoura' and R[1] == 'pedra' and R[2] == 'tesoura': return 2\n",
    "    elif R[0] == 'papel' and R[1] == 'tesoura' and R[2] == 'papel': return 2\n",
    "    \n",
    "    elif R[0] == 'pedra' and R[1] == 'pedra' and R[2] == 'papel': return 3\n",
    "    elif R[0] == 'papel' and R[1] == 'papel' and R[2] == 'tesoura': return 3\n",
    "    elif R[0] == 'tesoura' and R[1] == 'tesoura' and R[2] == 'pedra': return 3\n",
    "    \n",
    "      \n",
    "        "
   ]
  },
  {
   "cell_type": "code",
   "execution_count": null,
   "metadata": {},
   "outputs": [],
   "source": [
    "R = input().split()\n",
    "Gan = Ganhador(R)\n",
    "if Gan == 0:\n",
    "    print(\"Putz vei, o Leo ta demorando muito pra jogar...\")\n",
    "elif Gan == 1:\n",
    "    print(\"Os atributos dos monstros vao ser inteligencia, sabedoria...\")\n",
    "elif Gan == 2:\n",
    "    print(\"Iron Maiden's gonna get you, no matter how far!\")\n",
    "elif Gan == 3:\n",
    "    print(\"Urano perdeu algo muito precioso...\")\n",
    "\n",
    "\n"
   ]
  },
  {
   "cell_type": "code",
   "execution_count": null,
   "metadata": {},
   "outputs": [],
   "source": []
  },
  {
   "cell_type": "code",
   "execution_count": null,
   "metadata": {},
   "outputs": [],
   "source": []
  },
  {
   "cell_type": "code",
   "execution_count": null,
   "metadata": {},
   "outputs": [],
   "source": []
  },
  {
   "cell_type": "code",
   "execution_count": null,
   "metadata": {},
   "outputs": [],
   "source": []
  }
 ],
 "metadata": {
  "kernelspec": {
   "display_name": "Python 3",
   "language": "python",
   "name": "python3"
  },
  "language_info": {
   "codemirror_mode": {
    "name": "ipython",
    "version": 3
   },
   "file_extension": ".py",
   "mimetype": "text/x-python",
   "name": "python",
   "nbconvert_exporter": "python",
   "pygments_lexer": "ipython3",
   "version": "3.8.5"
  }
 },
 "nbformat": 4,
 "nbformat_minor": 4
}
