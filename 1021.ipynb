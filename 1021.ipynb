{
 "cells": [
  {
   "cell_type": "code",
   "execution_count": null,
   "metadata": {},
   "outputs": [],
   "source": []
  },
  {
   "cell_type": "code",
   "execution_count": 2,
   "metadata": {},
   "outputs": [],
   "source": [
    "def MostraDados(notas,moedas):\n",
    "    print(\"NOTAS:\")\n",
    "    print(\"{} nota(s) de R$ 100.00\".format(notas[5]))\n",
    "    print(\"{} nota(s) de R$ 50.00\".format(notas[4]))\n",
    "    print(\"{} nota(s) de R$ 20.00\".format(notas[3]))\n",
    "    print(\"{} nota(s) de R$ 10.00\".format(notas[2]))\n",
    "    print(\"{} nota(s) de R$ 5.00\".format(notas[1]))\n",
    "    print(\"{} nota(s) de R$ 2.00\".format(notas[0]))\n",
    "    print(\"MOEDAS:\")\n",
    "    print(\"{} moeda(s) de R$ 1.00\".format(moedas[5]))\n",
    "    print(\"{} moeda(s) de R$ 0.50\".format(moedas[4]))\n",
    "    print(\"{} moeda(s) de R$ 0.25\".format(moedas[3]))\n",
    "    print(\"{} moeda(s) de R$ 0.10\".format(moedas[2]))\n",
    "    print(\"{} moeda(s) de R$ 0.05\".format(moedas[1]))\n",
    "    print(\"{} moeda(s) de R$ 0.01\".format(moedas[0]))\n",
    "    \n",
    "    \n",
    "    "
   ]
  },
  {
   "cell_type": "code",
   "execution_count": 8,
   "metadata": {},
   "outputs": [
    {
     "name": "stdout",
     "output_type": "stream",
     "text": [
      "576.73\n",
      "NOTAS:\n",
      "5 nota(s) de R$ 100.00\n",
      "1 nota(s) de R$ 50.00\n",
      "1 nota(s) de R$ 20.00\n",
      "0 nota(s) de R$ 10.00\n",
      "1 nota(s) de R$ 5.00\n",
      "0 nota(s) de R$ 2.00\n",
      "MOEDAS:\n",
      "1 moeda(s) de R$ 1.00\n",
      "1 moeda(s) de R$ 0.50\n",
      "0 moeda(s) de R$ 0.25\n",
      "2 moeda(s) de R$ 0.10\n",
      "0 moeda(s) de R$ 0.05\n",
      "3 moeda(s) de R$ 0.01\n"
     ]
    }
   ],
   "source": [
    "n = float(input())\n",
    "n = round(n,2)\n",
    "moedas = [0 for i in range(0,6)]\n",
    "notas = [0 for i in range(0,6)]\n",
    "resto=0\n",
    "#parte das notas\n",
    "notas[5]=int(n/100)\n",
    "resto=n%100\n",
    "notas[4]=int(resto/50)\n",
    "resto=resto%50\n",
    "notas[3]=int(resto/20)\n",
    "resto=resto%20\n",
    "notas[2]=int(resto/10)\n",
    "resto=resto%10\n",
    "notas[1]=int(resto/5)\n",
    "resto=resto%5\n",
    "notas[0]=int(resto/2)\n",
    "resto=resto%2\n",
    "\n",
    "#parte das moedas\n",
    "moedas[5]=int(resto/1)\n",
    "resto=resto%1\n",
    "moedas[4]=int(resto/0.50)\n",
    "resto=resto%0.50\n",
    "moedas[3]=int(resto/0.25)\n",
    "resto=resto%0.25\n",
    "moedas[2]=int(resto/0.10)\n",
    "resto=resto%0.10\n",
    "moedas[1]=int(resto/0.05)\n",
    "resto=resto%0.05\n",
    "moedas[0]=int(resto/0.01)\n",
    "\n",
    "\n",
    "MostraDados(notas,moedas)"
   ]
  },
  {
   "cell_type": "code",
   "execution_count": null,
   "metadata": {},
   "outputs": [],
   "source": [
    "NOTAS:\n",
    "5 nota(s) de R$ 100.00\n",
    "1 nota(s) de R$ 50.00\n",
    "1 nota(s) de R$ 20.00\n",
    "0 nota(s) de R$ 10.00\n",
    "1 nota(s) de R$ 5.00\n",
    "0 nota(s) de R$ 2.00\n",
    "MOEDAS:\n",
    "1 moeda(s) de R$ 1.00\n",
    "1 moeda(s) de R$ 0.50\n",
    "0 moeda(s) de R$ 0.25\n",
    "2 moeda(s) de R$ 0.10\n",
    "0 moeda(s) de R$ 0.05\n",
    "3 moeda(s) de R$ 0.01"
   ]
  },
  {
   "cell_type": "code",
   "execution_count": 4,
   "metadata": {},
   "outputs": [
    {
     "data": {
      "text/plain": [
       "14.0"
      ]
     },
     "execution_count": 4,
     "metadata": {},
     "output_type": "execute_result"
    }
   ],
   "source": [
    "1454.123//100\n"
   ]
  },
  {
   "cell_type": "code",
   "execution_count": null,
   "metadata": {},
   "outputs": [],
   "source": []
  }
 ],
 "metadata": {
  "kernelspec": {
   "display_name": "Python 3",
   "language": "python",
   "name": "python3"
  },
  "language_info": {
   "codemirror_mode": {
    "name": "ipython",
    "version": 3
   },
   "file_extension": ".py",
   "mimetype": "text/x-python",
   "name": "python",
   "nbconvert_exporter": "python",
   "pygments_lexer": "ipython3",
   "version": "3.8.5"
  }
 },
 "nbformat": 4,
 "nbformat_minor": 4
}
