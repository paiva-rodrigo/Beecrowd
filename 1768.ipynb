{
 "cells": [
  {
   "cell_type": "code",
   "execution_count": null,
   "metadata": {},
   "outputs": [],
   "source": []
  },
  {
   "cell_type": "code",
   "execution_count": null,
   "metadata": {},
   "outputs": [],
   "source": [
    "while(True):\n",
    "    try:\n",
    "        t = int(input())\n",
    "        d = 1\n",
    "        while(d<=t):\n",
    "            print(\"{}{}{}\".format(\" \"*int((t-d)/2),'*'*d,\" \"*int((t-d)/2)))\n",
    "            d+=2\n",
    "        print(\"{}{}{}\".format(\" \"*int((t-1)/2),\"*\",\" \"*int((t-1)/2)))\n",
    "        print(\"{}{}{}\\n\".format(\" \"*int((t-3)/2),3*\"*\",\" \"*int((t-3)/2)))\n",
    "    except (EOFError):\n",
    "        break"
   ]
  },
  {
   "cell_type": "code",
   "execution_count": null,
   "metadata": {},
   "outputs": [],
   "source": []
  },
  {
   "cell_type": "code",
   "execution_count": null,
   "metadata": {},
   "outputs": [],
   "source": []
  },
  {
   "cell_type": "code",
   "execution_count": null,
   "metadata": {},
   "outputs": [],
   "source": []
  }
 ],
 "metadata": {
  "kernelspec": {
   "display_name": "Python 3",
   "language": "python",
   "name": "python3"
  },
  "language_info": {
   "codemirror_mode": {
    "name": "ipython",
    "version": 3
   },
   "file_extension": ".py",
   "mimetype": "text/x-python",
   "name": "python",
   "nbconvert_exporter": "python",
   "pygments_lexer": "ipython3",
   "version": "3.8.5"
  }
 },
 "nbformat": 4,
 "nbformat_minor": 4
}
