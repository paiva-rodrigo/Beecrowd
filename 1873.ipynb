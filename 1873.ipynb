{
 "cells": [
  {
   "cell_type": "code",
   "execution_count": null,
   "metadata": {},
   "outputs": [],
   "source": [
    "Tesoura corta papel\n",
    "Papel cobre pedra\n",
    "Pedra derruba lagarto\n",
    "Lagarto adormece Spock\n",
    "Spock derrete tesoura\n",
    "Tesoura prende lagarto\n",
    "Lagarto come papel\n",
    "Papel refuta Spock\n",
    "Spock vaporiza pedra\n",
    "Pedra quebra tesoura"
   ]
  },
  {
   "cell_type": "code",
   "execution_count": 2,
   "metadata": {},
   "outputs": [],
   "source": [
    "def Verifica(a,b):\n",
    "    valor = 0\n",
    "    if a == \"tesoura\":\n",
    "        if b == \"papel\":\n",
    "            valor = 1\n",
    "        elif b == 'pedra':\n",
    "            valor = 2\n",
    "        elif b == 'lagarto':\n",
    "            valor = 1    \n",
    "        elif b == 'spock':\n",
    "            valor = 2\n",
    "        elif b=='tesoura':\n",
    "            valor = 3\n",
    "    elif a == \"papel\":\n",
    "        if b == \"tesoura\":\n",
    "            valor = 2\n",
    "        elif b == 'pedra':\n",
    "            valor = 1\n",
    "        elif b == 'lagarto':\n",
    "            valor = 2    \n",
    "        elif b == 'spock':\n",
    "            valor = 1\n",
    "        elif b=='papel':\n",
    "            valor = 3\n",
    "    if a == \"pedra\":\n",
    "        if b == \"papel\":\n",
    "            valor = 2\n",
    "        elif b == 'lagarto':\n",
    "            valor = 1    \n",
    "        elif b == 'spock':\n",
    "            valor = 2\n",
    "        elif b=='tesoura':\n",
    "            valor = 1\n",
    "        elif b == 'pedra':\n",
    "            valor = 3\n",
    "    if a == \"lagarto\":\n",
    "        if b == \"papel\":\n",
    "            valor = 1\n",
    "        elif b == 'spock':\n",
    "            valor = 1\n",
    "        elif b=='tesoura':\n",
    "            valor = 2\n",
    "        elif b == 'pedra':\n",
    "            valor = 2\n",
    "        elif b == 'lagarto':\n",
    "            valor = 3 \n",
    "    if a == \"spock\":\n",
    "        if b == \"papel\":\n",
    "            valor = 2\n",
    "        elif b=='tesoura':\n",
    "            valor = 1\n",
    "        elif b == 'pedra':\n",
    "            valor = 1\n",
    "        elif b == 'lagarto':\n",
    "            valor = 2\n",
    "        elif b == 'spock':\n",
    "            valor = 3 \n",
    "    return valor"
   ]
  },
  {
   "cell_type": "code",
   "execution_count": 3,
   "metadata": {},
   "outputs": [
    {
     "name": "stdout",
     "output_type": "stream",
     "text": [
      "3\n",
      "spock spock\n",
      "empate\n",
      "tesoura spock\n",
      "sheldon\n",
      "lagarto spock\n",
      "rajesh\n"
     ]
    }
   ],
   "source": [
    "n =  int(input())\n",
    "for i in range(n):\n",
    "    a,b = input().split()\n",
    "    r = Verifica(a,b)\n",
    "    if r == 1: print(\"rajesh\")\n",
    "    elif r == 2: print(\"sheldon\")\n",
    "    elif r == 3: print(\"empate\")\n",
    "    "
   ]
  },
  {
   "cell_type": "code",
   "execution_count": null,
   "metadata": {},
   "outputs": [],
   "source": [
    "b"
   ]
  },
  {
   "cell_type": "code",
   "execution_count": null,
   "metadata": {},
   "outputs": [],
   "source": []
  },
  {
   "cell_type": "code",
   "execution_count": null,
   "metadata": {},
   "outputs": [],
   "source": []
  },
  {
   "cell_type": "code",
   "execution_count": null,
   "metadata": {},
   "outputs": [],
   "source": []
  }
 ],
 "metadata": {
  "kernelspec": {
   "display_name": "Python 3",
   "language": "python",
   "name": "python3"
  },
  "language_info": {
   "codemirror_mode": {
    "name": "ipython",
    "version": 3
   },
   "file_extension": ".py",
   "mimetype": "text/x-python",
   "name": "python",
   "nbconvert_exporter": "python",
   "pygments_lexer": "ipython3",
   "version": "3.8.5"
  }
 },
 "nbformat": 4,
 "nbformat_minor": 4
}
