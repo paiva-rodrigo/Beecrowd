{
 "cells": [
  {
   "cell_type": "code",
   "execution_count": null,
   "metadata": {},
   "outputs": [],
   "source": [
    "def Rafael(x,y):\n",
    "    r = (3*x)**2 + y**2\n",
    "    return r"
   ]
  },
  {
   "cell_type": "code",
   "execution_count": null,
   "metadata": {},
   "outputs": [],
   "source": [
    "def Beto(x,y):\n",
    "    r = 2*(x**2) + (5*y)**2\n",
    "    return r"
   ]
  },
  {
   "cell_type": "code",
   "execution_count": null,
   "metadata": {},
   "outputs": [],
   "source": [
    "def Carlos(x,y):\n",
    "    r = -100*x + y**3\n",
    "    return r"
   ]
  },
  {
   "cell_type": "code",
   "execution_count": null,
   "metadata": {},
   "outputs": [
    {
     "name": "stdout",
     "output_type": "stream",
     "text": [
      "6\n",
      "5 3\n",
      "275 234 -473\n",
      "Beto ganhou\n",
      "2 30\n",
      "22508 936 26800\n",
      "Carlos ganhou\n",
      "2 100\n",
      "250008 10036 999800\n",
      "Carlos ganhou\n",
      "30 20\n",
      "11800 8500 5000\n",
      "Beto ganhou\n"
     ]
    }
   ],
   "source": [
    "N = int(input())\n",
    "for i in range(0,N):\n",
    "    resp = input()\n",
    "    dados = resp.split(\" \")\n",
    "    valores = [int(val) for val in dados]\n",
    "    x = valores[0]\n",
    "    y = valores[1]\n",
    "    r1 = Beto(x,y)\n",
    "    r2 = Rafael(x,y)\n",
    "    r3 = Carlos(x,y)\n",
    "    if r1>r2 and r1>r3:\n",
    "        print(\"Beto ganhou\")\n",
    "    elif r2>r3 and r2>r1:\n",
    "        print(\"Rafael ganhou\")\n",
    "    else:\n",
    "        print(\"Carlos ganhou\")    "
   ]
  },
  {
   "cell_type": "markdown",
   "metadata": {},
   "source": [
    "2**3"
   ]
  },
  {
   "cell_type": "code",
   "execution_count": null,
   "metadata": {},
   "outputs": [],
   "source": [
    "2**3"
   ]
  },
  {
   "cell_type": "code",
   "execution_count": null,
   "metadata": {},
   "outputs": [],
   "source": []
  }
 ],
 "metadata": {
  "kernelspec": {
   "display_name": "Python 3",
   "language": "python",
   "name": "python3"
  },
  "language_info": {
   "codemirror_mode": {
    "name": "ipython",
    "version": 3
   },
   "file_extension": ".py",
   "mimetype": "text/x-python",
   "name": "python",
   "nbconvert_exporter": "python",
   "pygments_lexer": "ipython3",
   "version": "3.8.5"
  }
 },
 "nbformat": 4,
 "nbformat_minor": 4
}
