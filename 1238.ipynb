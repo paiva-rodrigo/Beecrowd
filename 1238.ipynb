{
 "cells": [
  {
   "cell_type": "code",
   "execution_count": null,
   "metadata": {},
   "outputs": [],
   "source": []
  },
  {
   "cell_type": "code",
   "execution_count": 7,
   "metadata": {},
   "outputs": [
    {
     "name": "stdout",
     "output_type": "stream",
     "text": [
      "1\n",
      "aa bb\n",
      "aba\n"
     ]
    }
   ],
   "source": [
    "n = int(input())\n",
    "for i in range(0,n):\n",
    "    st = input().split()\n",
    "    j = 0\n",
    "    resp =''\n",
    "    cond = True\n",
    "    if len(st[0])>=len(st[1]):\n",
    "        for i in st[0]:\n",
    "            resp+=i\n",
    "            if j == len(st[1]):\n",
    "                cond = False\n",
    "            if cond :\n",
    "                resp+=st[1][j]\n",
    "                j+=1\n",
    "    else:\n",
    "        for i in range(0,len(st[1])):\n",
    "            if j == len(st[0]):\n",
    "                cond = False\n",
    "            if cond==True :\n",
    "                resp+=st[0][j]\n",
    "                j+=1\n",
    "            resp+=st[1][i]         \n",
    "        \n",
    "    print(resp)\n",
    "        "
   ]
  },
  {
   "cell_type": "code",
   "execution_count": null,
   "metadata": {},
   "outputs": [],
   "source": []
  }
 ],
 "metadata": {
  "kernelspec": {
   "display_name": "Python 3",
   "language": "python",
   "name": "python3"
  },
  "language_info": {
   "codemirror_mode": {
    "name": "ipython",
    "version": 3
   },
   "file_extension": ".py",
   "mimetype": "text/x-python",
   "name": "python",
   "nbconvert_exporter": "python",
   "pygments_lexer": "ipython3",
   "version": "3.8.5"
  }
 },
 "nbformat": 4,
 "nbformat_minor": 4
}
