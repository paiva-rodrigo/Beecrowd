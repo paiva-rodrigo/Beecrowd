{
 "cells": [
  {
   "cell_type": "code",
   "execution_count": null,
   "metadata": {},
   "outputs": [],
   "source": []
  },
  {
   "cell_type": "code",
   "execution_count": null,
   "metadata": {},
   "outputs": [],
   "source": []
  },
  {
   "cell_type": "code",
   "execution_count": 2,
   "metadata": {},
   "outputs": [
    {
     "name": "stdout",
     "output_type": "stream",
     "text": [
      "2\n",
      "3\n",
      "p\n",
      "p\n",
      "p\n",
      "p\n",
      "c\n",
      "ingles\n",
      "2\n",
      "r\n",
      "r\n",
      "r\n",
      "r\n"
     ]
    }
   ],
   "source": [
    "n1 =  int(input())\n",
    "\n",
    "for i in range(0,n1):\n",
    "    lista1=[]\n",
    "    n2 = int(input())\n",
    "    for i in range(0,n2):\n",
    "        n3 = input()\n",
    "        lista1.append(n3)\n",
    "        c = 0\n",
    "        for i in range(0,len(lista1)):\n",
    "            if lista1[0] != lista1[i]:\n",
    "                c=1\n",
    "    if c == 1:\n",
    "        print('ingles')\n",
    "    else:\n",
    "        print(lista1[0])"
   ]
  },
  {
   "cell_type": "code",
   "execution_count": null,
   "metadata": {},
   "outputs": [],
   "source": []
  },
  {
   "cell_type": "code",
   "execution_count": null,
   "metadata": {},
   "outputs": [],
   "source": []
  },
  {
   "cell_type": "code",
   "execution_count": null,
   "metadata": {},
   "outputs": [],
   "source": []
  },
  {
   "cell_type": "code",
   "execution_count": null,
   "metadata": {},
   "outputs": [],
   "source": []
  },
  {
   "cell_type": "code",
   "execution_count": null,
   "metadata": {},
   "outputs": [],
   "source": []
  },
  {
   "cell_type": "code",
   "execution_count": null,
   "metadata": {},
   "outputs": [],
   "source": []
  },
  {
   "cell_type": "code",
   "execution_count": null,
   "metadata": {},
   "outputs": [],
   "source": []
  },
  {
   "cell_type": "code",
   "execution_count": null,
   "metadata": {},
   "outputs": [],
   "source": []
  },
  {
   "cell_type": "code",
   "execution_count": null,
   "metadata": {},
   "outputs": [],
   "source": []
  },
  {
   "cell_type": "code",
   "execution_count": null,
   "metadata": {},
   "outputs": [],
   "source": []
  },
  {
   "cell_type": "code",
   "execution_count": null,
   "metadata": {},
   "outputs": [],
   "source": []
  },
  {
   "cell_type": "code",
   "execution_count": null,
   "metadata": {},
   "outputs": [],
   "source": [
    "#1516\n",
    "while True:\n",
    "    Lista = []\n",
    "    resposta = []\n",
    "    \n",
    "    N1 = input().split()\n",
    "    if int(N1[0]) == 0 and int(N1[0]) == 0:\n",
    "        break\n",
    "    \n",
    "    for x in range(0,int(N1[0])):\n",
    "        Lista.append(input())\n",
    "        \n",
    "    N2 = input().split()\n",
    "    N3 = [int(dado) for dado in N2]\n",
    "    \n",
    "    #abaixo fazemos uma proporção para que a questão funcione\n",
    "    N3[0] = int(int(N1[0])/N3[0])\n",
    "    N3[1] = int(int(N1[1])/N3[1])\n",
    "    \n",
    "    for x in Lista:\n",
    "        valor = ''\n",
    "        for y in x:\n",
    "            valor += y * N3[1]\n",
    "        for y in range(N3[0]):\n",
    "            resposta.append(valor)\n",
    "\n",
    "    for d in range(0,len(resposta)):\n",
    "        print(resposta[d])"
   ]
  },
  {
   "cell_type": "code",
   "execution_count": null,
   "metadata": {},
   "outputs": [],
   "source": [
    "for d in resposta:\n",
    "    print(d)"
   ]
  },
  {
   "cell_type": "code",
   "execution_count": null,
   "metadata": {},
   "outputs": [],
   "source": [
    "resposta"
   ]
  },
  {
   "cell_type": "code",
   "execution_count": null,
   "metadata": {},
   "outputs": [],
   "source": []
  }
 ],
 "metadata": {
  "kernelspec": {
   "display_name": "Python 3",
   "language": "python",
   "name": "python3"
  },
  "language_info": {
   "codemirror_mode": {
    "name": "ipython",
    "version": 3
   },
   "file_extension": ".py",
   "mimetype": "text/x-python",
   "name": "python",
   "nbconvert_exporter": "python",
   "pygments_lexer": "ipython3",
   "version": "3.8.5"
  }
 },
 "nbformat": 4,
 "nbformat_minor": 4
}
