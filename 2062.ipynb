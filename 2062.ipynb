{
 "cells": [
  {
   "cell_type": "code",
   "execution_count": null,
   "metadata": {},
   "outputs": [],
   "source": []
  },
  {
   "cell_type": "code",
   "execution_count": 2,
   "metadata": {
    "scrolled": false
   },
   "outputs": [
    {
     "name": "stdout",
     "output_type": "stream",
     "text": [
      "4\n",
      "OB UR OO UU OBB URR\n",
      "OB UR OO UU OBI URI"
     ]
    }
   ],
   "source": [
    "n = int(input())\n",
    "R =  input().split()\n",
    "for i in range(len(R)):\n",
    "    if i == (len(R)-1):\n",
    "        if len(R[i])==3:\n",
    "            if R[i][0] == 'O' and R[i][1] == 'B':\n",
    "                print('OBI')\n",
    "            elif R[i][0] == 'U' and R[i][1] == 'R':\n",
    "                print('URI')\n",
    "            else:\n",
    "                print(R[i])\n",
    "        else:\n",
    "            print(R[i])\n",
    "    else:\n",
    "        if len(R[i])==3:\n",
    "            if R[i][0] == 'O' and R[i][1] == 'B':\n",
    "                print('OBI',end=' ')\n",
    "            elif R[i][0] == 'U' and R[i][1] == 'R':\n",
    "                print('URI',end=' ')\n",
    "            else:\n",
    "                print(R[i],end=' ')\n",
    "        else:\n",
    "            print(R[i],end=' ')\n"
   ]
  },
  {
   "cell_type": "code",
   "execution_count": null,
   "metadata": {},
   "outputs": [],
   "source": [
    "ONU OBI OBI LOCU URI O OBI PALAVRA BIO IRU ZAG ABN NAB CHD"
   ]
  },
  {
   "cell_type": "code",
   "execution_count": null,
   "metadata": {},
   "outputs": [],
   "source": [
    "R"
   ]
  },
  {
   "cell_type": "code",
   "execution_count": null,
   "metadata": {},
   "outputs": [],
   "source": []
  },
  {
   "cell_type": "code",
   "execution_count": null,
   "metadata": {},
   "outputs": [],
   "source": []
  },
  {
   "cell_type": "code",
   "execution_count": null,
   "metadata": {},
   "outputs": [],
   "source": []
  },
  {
   "cell_type": "code",
   "execution_count": null,
   "metadata": {},
   "outputs": [],
   "source": []
  },
  {
   "cell_type": "code",
   "execution_count": null,
   "metadata": {},
   "outputs": [],
   "source": []
  }
 ],
 "metadata": {
  "kernelspec": {
   "display_name": "Python 3",
   "language": "python",
   "name": "python3"
  },
  "language_info": {
   "codemirror_mode": {
    "name": "ipython",
    "version": 3
   },
   "file_extension": ".py",
   "mimetype": "text/x-python",
   "name": "python",
   "nbconvert_exporter": "python",
   "pygments_lexer": "ipython3",
   "version": "3.8.5"
  }
 },
 "nbformat": 4,
 "nbformat_minor": 4
}
