{
 "cells": [
  {
   "cell_type": "code",
   "execution_count": 1,
   "metadata": {},
   "outputs": [],
   "source": [
    "def Passada1(String):\n",
    "    Lista = []\n",
    "    for i in range(0,len(String)):\n",
    "        if ord(String[i])<=90 and ord(String[i])>=65:\n",
    "            Lista.append(chr(ord(String[i])+3))\n",
    "        elif ord(String[i])<=122 and ord(String[i])>=97:\n",
    "            Lista.append(chr(ord(String[i])+3))\n",
    "    Passada2(Lista)    "
   ]
  },
  {
   "cell_type": "code",
   "execution_count": 2,
   "metadata": {},
   "outputs": [],
   "source": [
    "def Passada2(String):\n",
    "    j = len(String)\n",
    "    Lista = []\n",
    "    for i in range(len(String)-1,-1,-1):\n",
    "        Lista.append(String[i])\n",
    "    Passada3(Lista)"
   ]
  },
  {
   "cell_type": "code",
   "execution_count": 3,
   "metadata": {},
   "outputs": [],
   "source": [
    "def Passada3(String):\n",
    "    for i in range(int(len(String)/2),len(String)):\n",
    "        String[i]= chr(ord(String[i])-1)       \n",
    "    return String\n",
    "    "
   ]
  },
  {
   "cell_type": "code",
   "execution_count": 4,
   "metadata": {},
   "outputs": [],
   "source": [
    "#ord(\"a\") retorna o valor em numero de um caracter\n",
    "#chr(55)  mostra qual caractere está naquela devida posição"
   ]
  },
  {
   "cell_type": "code",
   "execution_count": 5,
   "metadata": {},
   "outputs": [
    {
     "name": "stdout",
     "output_type": "stream",
     "text": [
      "1\n",
      "Texto #3\n",
      "None\n"
     ]
    }
   ],
   "source": [
    "n = int(input())\n",
    "for i in range(0,n):\n",
    "    R = input()\n",
    "    Resp = Passada1(R)\n",
    "    print(Resp)"
   ]
  },
  {
   "cell_type": "code",
   "execution_count": null,
   "metadata": {},
   "outputs": [],
   "source": []
  },
  {
   "cell_type": "code",
   "execution_count": null,
   "metadata": {},
   "outputs": [],
   "source": []
  }
 ],
 "metadata": {
  "kernelspec": {
   "display_name": "Python 3",
   "language": "python",
   "name": "python3"
  },
  "language_info": {
   "codemirror_mode": {
    "name": "ipython",
    "version": 3
   },
   "file_extension": ".py",
   "mimetype": "text/x-python",
   "name": "python",
   "nbconvert_exporter": "python",
   "pygments_lexer": "ipython3",
   "version": "3.8.5"
  }
 },
 "nbformat": 4,
 "nbformat_minor": 4
}
