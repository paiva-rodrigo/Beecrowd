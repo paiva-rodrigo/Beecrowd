{
 "cells": [
  {
   "cell_type": "code",
   "execution_count": 1,
   "metadata": {},
   "outputs": [],
   "source": [
    "def media(a,b):\n",
    "    return (a+b)/2"
   ]
  },
  {
   "cell_type": "code",
   "execution_count": null,
   "metadata": {},
   "outputs": [
    {
     "name": "stdout",
     "output_type": "stream",
     "text": [
      "-3.5\n",
      "nota invalida\n",
      "3.5\n",
      "11\n",
      "nota invalida\n",
      "10\n",
      "media =  6.75\n",
      "novo calculo (1-sim 2-nao)\n"
     ]
    }
   ],
   "source": [
    "from decimal import Decimal\n",
    "cond= False\n",
    "\n",
    "while(True):\n",
    "    n1 = Decimal(input())\n",
    "    if n1<0 or n1>10:\n",
    "        print(\"nota invalida\")\n",
    "    else:\n",
    "        while(True):\n",
    "            n2 = Decimal(input())\n",
    "            if n2>10 or n2<0:\n",
    "                print(\"nota invalida\")\n",
    "            else:\n",
    "                print(\"media = \",media(n1,n2))\n",
    "                cond = True\n",
    "                break\n",
    "    if cond == True :break\n",
    "\n",
    "cond = False\n",
    "while(True):\n",
    "    A = input(print(\"\\nnovo calculo (1-sim 2-nao)\"))\n",
    "    N = int(float(A))\n",
    "    if(N==2):break\n",
    "    elif N==1:\n",
    "        while(True):\n",
    "            n1 = Decimal(input())\n",
    "            if n1<0 or n1>10:\n",
    "                print(\"\\nnota invalida\")\n",
    "            else:\n",
    "                while(True):\n",
    "                    n2 = Decimal(input())\n",
    "                    if n2>10 or n2<0:\n",
    "                        print(\"\\nnota invalida\")\n",
    "                    else:\n",
    "                        print(\"\\nmedia = \",media(n1,n2))\n",
    "                        cond = True\n",
    "                        break\n",
    "            if cond == True :break\n",
    "    \n",
    "        \n",
    "    \n",
    "        "
   ]
  },
  {
   "cell_type": "code",
   "execution_count": null,
   "metadata": {},
   "outputs": [],
   "source": []
  },
  {
   "cell_type": "code",
   "execution_count": null,
   "metadata": {},
   "outputs": [],
   "source": []
  },
  {
   "cell_type": "code",
   "execution_count": null,
   "metadata": {},
   "outputs": [],
   "source": []
  },
  {
   "cell_type": "code",
   "execution_count": null,
   "metadata": {},
   "outputs": [],
   "source": []
  }
 ],
 "metadata": {
  "kernelspec": {
   "display_name": "Python 3",
   "language": "python",
   "name": "python3"
  },
  "language_info": {
   "codemirror_mode": {
    "name": "ipython",
    "version": 3
   },
   "file_extension": ".py",
   "mimetype": "text/x-python",
   "name": "python",
   "nbconvert_exporter": "python",
   "pygments_lexer": "ipython3",
   "version": "3.8.5"
  }
 },
 "nbformat": 4,
 "nbformat_minor": 4
}
