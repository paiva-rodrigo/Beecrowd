{
 "cells": [
  {
   "cell_type": "code",
   "execution_count": 13,
   "metadata": {},
   "outputs": [],
   "source": [
    "def ContaLed(Lista):\n",
    "    cont = 0\n",
    "    for i in Lista:\n",
    "        if(i==\"1\"):\n",
    "            cont+=2\n",
    "        elif(i==\"2\"):\n",
    "            cont+=5\n",
    "        elif(i==\"3\"):\n",
    "            cont+=5\n",
    "        elif(i==\"4\"):\n",
    "            cont+=4\n",
    "        elif(i==\"5\"):\n",
    "            cont+=5\n",
    "        elif(i==\"6\"):\n",
    "            cont+=6\n",
    "        elif(i==\"7\"):\n",
    "            cont+=3\n",
    "        elif(i==\"8\"):\n",
    "            cont+=7\n",
    "        elif(i==\"9\"):\n",
    "            cont+=6\n",
    "        elif(i==\"0\"):\n",
    "            cont+=6\n",
    "    print(cont,\"leds\")\n",
    "    "
   ]
  },
  {
   "cell_type": "code",
   "execution_count": null,
   "metadata": {},
   "outputs": [],
   "source": []
  },
  {
   "cell_type": "code",
   "execution_count": 14,
   "metadata": {},
   "outputs": [
    {
     "name": "stdout",
     "output_type": "stream",
     "text": [
      "3\n",
      "115380\n",
      "27  leds\n",
      "2819311\n",
      "29  leds\n",
      "23456\n",
      "25  leds\n"
     ]
    }
   ],
   "source": [
    "n = int(input())\n",
    "for i in range(0,n):\n",
    "    R = input()\n",
    "    ContaLed(R)"
   ]
  },
  {
   "cell_type": "code",
   "execution_count": null,
   "metadata": {},
   "outputs": [],
   "source": []
  },
  {
   "cell_type": "code",
   "execution_count": null,
   "metadata": {},
   "outputs": [],
   "source": []
  },
  {
   "cell_type": "code",
   "execution_count": null,
   "metadata": {},
   "outputs": [],
   "source": []
  },
  {
   "cell_type": "code",
   "execution_count": null,
   "metadata": {},
   "outputs": [],
   "source": []
  },
  {
   "cell_type": "code",
   "execution_count": null,
   "metadata": {},
   "outputs": [],
   "source": []
  },
  {
   "cell_type": "code",
   "execution_count": null,
   "metadata": {},
   "outputs": [],
   "source": []
  }
 ],
 "metadata": {
  "kernelspec": {
   "display_name": "Python 3",
   "language": "python",
   "name": "python3"
  },
  "language_info": {
   "codemirror_mode": {
    "name": "ipython",
    "version": 3
   },
   "file_extension": ".py",
   "mimetype": "text/x-python",
   "name": "python",
   "nbconvert_exporter": "python",
   "pygments_lexer": "ipython3",
   "version": "3.8.5"
  }
 },
 "nbformat": 4,
 "nbformat_minor": 4
}
