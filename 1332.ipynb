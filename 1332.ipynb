{
 "cells": [
  {
   "cell_type": "code",
   "execution_count": 4,
   "metadata": {},
   "outputs": [],
   "source": [
    "def Verifica(String):\n",
    "    \n",
    "    cont=0\n",
    "    if(len(String) == 3):\n",
    "        if String[0] == \"t\" and String[1] == \"w\":\n",
    "            print(2)\n",
    "        elif String[1] == \"w\" and String[2] == \"o\":\n",
    "            print(2)\n",
    "        elif String[0] == \"t\" and String[2] == \"o\":\n",
    "            print(2)\n",
    "        \n",
    "        if String[0] == \"o\" and String[1] == \"n\":\n",
    "            print(1)\n",
    "        elif String[1] == \"n\" and String[2] == \"e\":\n",
    "            print(1)\n",
    "        elif String[0] == \"o\" and String[2] == \"e\":\n",
    "            print(1)\n",
    "           \n",
    "    else:\n",
    "        numero3 = \"three\"\n",
    "        for i in range(0,5):\n",
    "            if String[i]==numero3[i]:\n",
    "                cont+=1\n",
    "        if(cont>=4):\n",
    "            print(3)\n",
    "         \n",
    "    \n",
    "    "
   ]
  },
  {
   "cell_type": "code",
   "execution_count": null,
   "metadata": {},
   "outputs": [],
   "source": [
    "n = int(input())\n",
    "for i in range(0,n):\n",
    "    R = input()\n",
    "    Verifica(R)"
   ]
  },
  {
   "cell_type": "code",
   "execution_count": null,
   "metadata": {},
   "outputs": [],
   "source": []
  },
  {
   "cell_type": "code",
   "execution_count": null,
   "metadata": {},
   "outputs": [],
   "source": []
  },
  {
   "cell_type": "code",
   "execution_count": null,
   "metadata": {},
   "outputs": [],
   "source": []
  },
  {
   "cell_type": "code",
   "execution_count": null,
   "metadata": {},
   "outputs": [],
   "source": []
  },
  {
   "cell_type": "code",
   "execution_count": null,
   "metadata": {},
   "outputs": [],
   "source": []
  }
 ],
 "metadata": {
  "kernelspec": {
   "display_name": "Python 3",
   "language": "python",
   "name": "python3"
  },
  "language_info": {
   "codemirror_mode": {
    "name": "ipython",
    "version": 3
   },
   "file_extension": ".py",
   "mimetype": "text/x-python",
   "name": "python",
   "nbconvert_exporter": "python",
   "pygments_lexer": "ipython3",
   "version": "3.8.5"
  }
 },
 "nbformat": 4,
 "nbformat_minor": 4
}
