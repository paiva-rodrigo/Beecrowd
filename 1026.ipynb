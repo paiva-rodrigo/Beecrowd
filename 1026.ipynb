{
 "cells": [
  {
   "cell_type": "code",
   "execution_count": 8,
   "metadata": {},
   "outputs": [
    {
     "name": "stdout",
     "output_type": "stream",
     "text": [
      "Digite o 1o numero: \n",
      "None6\n",
      "Digite o 2o numero: \n",
      "None9\n"
     ]
    }
   ],
   "source": [
    "a = int(input(print(\"Digite o 1o numero: \")))\n",
    "b = int(input(print(\"Digite o 2o numero: \")))\n",
    "aBin = bin(a)\n",
    "bBin = bin(b)"
   ]
  },
  {
   "cell_type": "code",
   "execution_count": 9,
   "metadata": {},
   "outputs": [
    {
     "name": "stdout",
     "output_type": "stream",
     "text": [
      "['1', '1', '0'] ['1', '0', '0', '1']\n"
     ]
    }
   ],
   "source": [
    "A=str(aBin)\n",
    "aSt = []\n",
    "B=str(bBin)\n",
    "bSt = []\n",
    "for i in range(2,len(aBin)):\n",
    "    aSt.append(A[i])\n",
    "for i in range(2,len(bBin)):\n",
    "    bSt.append(B[i])\n",
    "print(aSt,bSt)"
   ]
  },
  {
   "cell_type": "code",
   "execution_count": 10,
   "metadata": {},
   "outputs": [
    {
     "name": "stdout",
     "output_type": "stream",
     "text": [
      "1 1\n",
      "1 0\n",
      "0 0\n"
     ]
    },
    {
     "ename": "IndexError",
     "evalue": "list index out of range",
     "output_type": "error",
     "traceback": [
      "\u001b[1;31m---------------------------------------------------------------------------\u001b[0m",
      "\u001b[1;31mIndexError\u001b[0m                                Traceback (most recent call last)",
      "\u001b[1;32m<ipython-input-10-a94cae410475>\u001b[0m in \u001b[0;36m<module>\u001b[1;34m\u001b[0m\n\u001b[0;32m      1\u001b[0m \u001b[1;32mfor\u001b[0m \u001b[0mi\u001b[0m \u001b[1;32min\u001b[0m \u001b[0mrange\u001b[0m\u001b[1;33m(\u001b[0m\u001b[1;36m0\u001b[0m\u001b[1;33m,\u001b[0m\u001b[0mlen\u001b[0m\u001b[1;33m(\u001b[0m\u001b[0mbSt\u001b[0m\u001b[1;33m)\u001b[0m\u001b[1;33m)\u001b[0m\u001b[1;33m:\u001b[0m\u001b[1;33m\u001b[0m\u001b[1;33m\u001b[0m\u001b[0m\n\u001b[1;32m----> 2\u001b[1;33m     \u001b[0mprint\u001b[0m\u001b[1;33m(\u001b[0m\u001b[0maSt\u001b[0m\u001b[1;33m[\u001b[0m\u001b[0mi\u001b[0m\u001b[1;33m]\u001b[0m\u001b[1;33m,\u001b[0m\u001b[0mbSt\u001b[0m\u001b[1;33m[\u001b[0m\u001b[0mi\u001b[0m\u001b[1;33m]\u001b[0m\u001b[1;33m)\u001b[0m\u001b[1;33m\u001b[0m\u001b[1;33m\u001b[0m\u001b[0m\n\u001b[0m",
      "\u001b[1;31mIndexError\u001b[0m: list index out of range"
     ]
    }
   ],
   "source": [
    "for i in range(0,len(bSt)):\n",
    "    print(aSt[i],bSt[i])"
   ]
  },
  {
   "cell_type": "code",
   "execution_count": 11,
   "metadata": {},
   "outputs": [],
   "source": [
    "result = []\n",
    "dado = []\n",
    "if len(aSt)<len(bSt):\n",
    "    for i in range(len(aSt),len(bSt)):\n",
    "        result.append(\"0\")\n",
    "    dado = result\n",
    "    for i in range(0,len(aSt)):\n",
    "        dado.append(aSt[i])\n",
    "    aSt = dado    \n",
    "    \n",
    "elif len(aSt)>len(bSt):\n",
    "    for i in range(len(bSt),len(aSt)):\n",
    "        result.append(\"0\")\n",
    "    dado = result\n",
    "    for i in range(0,len(aSt)):\n",
    "        dado.append(aSt[i])\n",
    "    bSt = dado\n"
   ]
  },
  {
   "cell_type": "code",
   "execution_count": 12,
   "metadata": {},
   "outputs": [
    {
     "name": "stdout",
     "output_type": "stream",
     "text": [
      "4 4\n"
     ]
    }
   ],
   "source": [
    "print(len(aSt),len(bSt))"
   ]
  },
  {
   "cell_type": "code",
   "execution_count": 13,
   "metadata": {},
   "outputs": [
    {
     "name": "stdout",
     "output_type": "stream",
     "text": [
      "0 1\n",
      "1 0\n",
      "1 0\n",
      "0 1\n"
     ]
    }
   ],
   "source": [
    "for i in range(0,len(aSt)):\n",
    "    print(aSt[i],bSt[i])"
   ]
  },
  {
   "cell_type": "code",
   "execution_count": 14,
   "metadata": {},
   "outputs": [
    {
     "name": "stdout",
     "output_type": "stream",
     "text": [
      "[1, 1, 1, 1]\n"
     ]
    }
   ],
   "source": [
    "saida = []\n",
    "for i in range(0,len(aSt)):\n",
    "    if(aSt[i] == \"0\" and bSt[i] ==\"0\"):\n",
    "        saida.append(0);\n",
    "    elif(aSt[i] == \"1\" and bSt[i] ==\"1\"):\n",
    "        saida.append(0);\n",
    "    else:\n",
    "        saida.append(1);\n",
    "print(saida) "
   ]
  },
  {
   "cell_type": "code",
   "execution_count": 15,
   "metadata": {},
   "outputs": [],
   "source": [
    "def Decimal(x):\n",
    "    a = 0\n",
    "    c = 0\n",
    "    for i in range(0,len(x)):\n",
    "        a += x[i]*(2**c)\n",
    "        c+=1\n",
    "    return a\n",
    "    "
   ]
  },
  {
   "cell_type": "code",
   "execution_count": 16,
   "metadata": {},
   "outputs": [
    {
     "name": "stdout",
     "output_type": "stream",
     "text": [
      "[1, 1, 1, 1]\n",
      "15\n"
     ]
    }
   ],
   "source": [
    "print(saida)\n",
    "resultado = Decimal(saida)\n",
    "print(resultado)"
   ]
  },
  {
   "cell_type": "code",
   "execution_count": null,
   "metadata": {},
   "outputs": [],
   "source": []
  },
  {
   "cell_type": "code",
   "execution_count": null,
   "metadata": {},
   "outputs": [],
   "source": []
  },
  {
   "cell_type": "code",
   "execution_count": null,
   "metadata": {},
   "outputs": [],
   "source": []
  },
  {
   "cell_type": "code",
   "execution_count": null,
   "metadata": {},
   "outputs": [],
   "source": []
  },
  {
   "cell_type": "code",
   "execution_count": null,
   "metadata": {},
   "outputs": [],
   "source": []
  },
  {
   "cell_type": "code",
   "execution_count": null,
   "metadata": {},
   "outputs": [],
   "source": []
  }
 ],
 "metadata": {
  "kernelspec": {
   "display_name": "Python 3",
   "language": "python",
   "name": "python3"
  },
  "language_info": {
   "codemirror_mode": {
    "name": "ipython",
    "version": 3
   },
   "file_extension": ".py",
   "mimetype": "text/x-python",
   "name": "python",
   "nbconvert_exporter": "python",
   "pygments_lexer": "ipython3",
   "version": "3.8.5"
  }
 },
 "nbformat": 4,
 "nbformat_minor": 4
}
