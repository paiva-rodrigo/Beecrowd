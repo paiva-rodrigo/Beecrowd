{
 "cells": [
  {
   "cell_type": "code",
   "execution_count": 19,
   "metadata": {},
   "outputs": [],
   "source": [
    "def verificarH(PosI,PosF):\n",
    "    if(PosI[0]==PosF[0]):\n",
    "        return True\n",
    "    else:\n",
    "        return False\n",
    "                "
   ]
  },
  {
   "cell_type": "code",
   "execution_count": 20,
   "metadata": {},
   "outputs": [],
   "source": [
    "def verificarV(PosI,PosF):\n",
    "    if(PosI[1]==PosF[1]):\n",
    "        return True\n",
    "    else:\n",
    "        return False"
   ]
  },
  {
   "cell_type": "code",
   "execution_count": 28,
   "metadata": {},
   "outputs": [],
   "source": [
    "def verificarD(PosI,PosF):\n",
    "    Xi=PosI[0]#coluna\n",
    "    Yi=PosI[1]#linha\n",
    "    a=False\n",
    "    j=Yi\n",
    "    k=Yi\n",
    "    for i in range(Xi,9):\n",
    "        if(j==PosF[0] and i==PosF[1]):\n",
    "            a=True\n",
    "\n",
    "        if(k==PosF[0] and i==PosF[1]):\n",
    "            a=True\n",
    "        j+=1\n",
    "        k+=1\n",
    "    j=Yi\n",
    "    k=Yi\n",
    "    for i in range(Xi,0,-1):\n",
    "        if(j==PosF[0] and i==PosF[1]):\n",
    "            a=True\n",
    "                \n",
    "        if(k==PosF[0] and i==PosF[1]):\n",
    "            a=True\n",
    "        j-=1\n",
    "        k-=1\n",
    "    \n",
    "    if(a==True):return True\n",
    "    else:return False\n",
    "            "
   ]
  },
  {
   "cell_type": "code",
   "execution_count": 30,
   "metadata": {},
   "outputs": [
    {
     "name": "stdout",
     "output_type": "stream",
     "text": [
      "Digite X1:\n",
      "None5\n",
      "Digite Y1:\n",
      "None5\n",
      "Digite X2:\n",
      "None4\n",
      "Digite Y2:\n",
      "None3\n",
      "False False False\n",
      "2 \n",
      "\n"
     ]
    }
   ],
   "source": [
    "x1 = int(input(print(\"Digite X1:\")))\n",
    "y1 = int(input(print(\"Digite Y1:\")))\n",
    "x2 = int(input(print(\"Digite X2:\")))\n",
    "y2 = int(input(print(\"Digite Y2:\")))\n",
    "posicaoI = []\n",
    "posicaoF = []\n",
    "posicaoI.append(x1)\n",
    "posicaoI.append(y1)\n",
    "posicaoF.append(x2)\n",
    "posicaoF.append(y2)\n",
    "\n",
    "if(posicaoI==posicaoF):\n",
    "    print(0,\"\\n\")\n",
    "else:\n",
    "    H = verificarH(posicaoI,posicaoF)\n",
    "    V = verificarV(posicaoI,posicaoF)\n",
    "    D = verificarD(posicaoI,posicaoF)\n",
    "    \n",
    "    if(H == True or V == True or D == True):\n",
    "        print(1,\"\\n\")\n",
    "    else:\n",
    "        print(2,\"\\n\")"
   ]
  },
  {
   "cell_type": "code",
   "execution_count": null,
   "metadata": {},
   "outputs": [],
   "source": []
  },
  {
   "cell_type": "code",
   "execution_count": null,
   "metadata": {},
   "outputs": [],
   "source": []
  },
  {
   "cell_type": "code",
   "execution_count": null,
   "metadata": {},
   "outputs": [],
   "source": []
  },
  {
   "cell_type": "code",
   "execution_count": null,
   "metadata": {},
   "outputs": [],
   "source": []
  },
  {
   "cell_type": "code",
   "execution_count": null,
   "metadata": {},
   "outputs": [],
   "source": []
  },
  {
   "cell_type": "code",
   "execution_count": null,
   "metadata": {},
   "outputs": [],
   "source": []
  },
  {
   "cell_type": "code",
   "execution_count": null,
   "metadata": {},
   "outputs": [],
   "source": []
  },
  {
   "cell_type": "code",
   "execution_count": null,
   "metadata": {},
   "outputs": [],
   "source": []
  },
  {
   "cell_type": "code",
   "execution_count": null,
   "metadata": {},
   "outputs": [],
   "source": []
  }
 ],
 "metadata": {
  "kernelspec": {
   "display_name": "Python 3",
   "language": "python",
   "name": "python3"
  },
  "language_info": {
   "codemirror_mode": {
    "name": "ipython",
    "version": 3
   },
   "file_extension": ".py",
   "mimetype": "text/x-python",
   "name": "python",
   "nbconvert_exporter": "python",
   "pygments_lexer": "ipython3",
   "version": "3.8.5"
  }
 },
 "nbformat": 4,
 "nbformat_minor": 4
}
