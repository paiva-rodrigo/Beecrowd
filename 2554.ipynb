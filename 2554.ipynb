{
 "cells": [
  {
   "cell_type": "code",
   "execution_count": 1,
   "metadata": {},
   "outputs": [],
   "source": [
    "def Verifica(Lista):\n",
    "    cont = []\n",
    "    for i in range(0,len(Lista)):\n",
    "        n=0\n",
    "        for j in range(1,len(Lista[i])): \n",
    "            if Lista[i][j] == '1':\n",
    "                n+=1\n",
    "            if j == len(Lista[i]) -1:    \n",
    "                cont.append(n)\n",
    "    return cont"
   ]
  },
  {
   "cell_type": "code",
   "execution_count": 3,
   "metadata": {},
   "outputs": [
    {
     "name": "stdout",
     "output_type": "stream",
     "text": [
      "5 3\n",
      "20/9/2016 0 1 1 1 1\n",
      "30/9/2016 1 0 1 1 1\n",
      "1/10/2016 1 1 0 1 1\n",
      "30/9/2016\n"
     ]
    }
   ],
   "source": [
    "F = input().split()\n",
    "D = int(F[1])\n",
    "R = []\n",
    "for i in range(D):\n",
    "    Dado = input().split()\n",
    "    R.append(Dado)\n",
    "X = Verifica(R)\n",
    "ct = 0\n",
    "val = 0\n",
    "for i in range(0,len(X)):\n",
    "    if int(X[i]) > val:\n",
    "        val = int(X[i])\n",
    "        ct = i\n",
    "c = 0\n",
    "for i in range(0,len(X)):\n",
    "    if int(X[i]) == val:\n",
    "        c = 1\n",
    "        \n",
    "if val == 0 or c == 1:\n",
    "    print('Pizza antes de FdI')\n",
    "else:\n",
    "    print(R[i-1][0])    \n",
    "    \n",
    "    "
   ]
  },
  {
   "cell_type": "code",
   "execution_count": null,
   "metadata": {},
   "outputs": [],
   "source": [
    "1/6/2016 0 0 1 0\n",
    "12/7/2016 1 1 1 0\n",
    "5/10/2016 1 1 1 1\n",
    "25/12/2016 0 0 0 0"
   ]
  },
  {
   "cell_type": "code",
   "execution_count": null,
   "metadata": {},
   "outputs": [],
   "source": [
    "5 3\n",
    "20/9/2016 0 1 1 1 1\n",
    "30/9/2016 1 0 1 1 1\n",
    "1/10/2016 1 1 0 1 1"
   ]
  },
  {
   "cell_type": "code",
   "execution_count": null,
   "metadata": {},
   "outputs": [],
   "source": []
  },
  {
   "cell_type": "code",
   "execution_count": null,
   "metadata": {},
   "outputs": [],
   "source": []
  }
 ],
 "metadata": {
  "kernelspec": {
   "display_name": "Python 3",
   "language": "python",
   "name": "python3"
  },
  "language_info": {
   "codemirror_mode": {
    "name": "ipython",
    "version": 3
   },
   "file_extension": ".py",
   "mimetype": "text/x-python",
   "name": "python",
   "nbconvert_exporter": "python",
   "pygments_lexer": "ipython3",
   "version": "3.8.5"
  }
 },
 "nbformat": 4,
 "nbformat_minor": 4
}
