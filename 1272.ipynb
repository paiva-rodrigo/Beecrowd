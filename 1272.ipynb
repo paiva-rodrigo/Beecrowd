{
 "cells": [
  {
   "cell_type": "code",
   "execution_count": null,
   "metadata": {},
   "outputs": [],
   "source": []
  },
  {
   "cell_type": "code",
   "execution_count": null,
   "metadata": {},
   "outputs": [],
   "source": [
    "while True:    \n",
    "    try:\n",
    "        n = int(input())\n",
    "        for i in range(0,n):\n",
    "            lista = input().split(\" \")\n",
    "            for i in range(0,len(lista)):\n",
    "                print(lista[i][0],end = \"\")\n",
    "    except EOFError:\n",
    "            break\n"
   ]
  },
  {
   "cell_type": "code",
   "execution_count": 3,
   "metadata": {},
   "outputs": [
    {
     "name": "stdout",
     "output_type": "stream",
     "text": [
      "1\n",
      "round·  elimination during  onsite  contest\n",
      "redoc\n"
     ]
    }
   ],
   "source": [
    "#funcionou\n",
    "n = int(input())\n",
    "for i in range(0,n):\n",
    "    palavras = input().split(' ')\n",
    "    text = \"\"\n",
    "    for palavra in palavras:\n",
    "        if palavra != '':\n",
    "            text += palavra[0]\n",
    "    \n",
    "    print(text)"
   ]
  },
  {
   "cell_type": "code",
   "execution_count": null,
   "metadata": {},
   "outputs": [],
   "source": []
  },
  {
   "cell_type": "code",
   "execution_count": null,
   "metadata": {},
   "outputs": [],
   "source": []
  }
 ],
 "metadata": {
  "kernelspec": {
   "display_name": "Python 3",
   "language": "python",
   "name": "python3"
  },
  "language_info": {
   "codemirror_mode": {
    "name": "ipython",
    "version": 3
   },
   "file_extension": ".py",
   "mimetype": "text/x-python",
   "name": "python",
   "nbconvert_exporter": "python",
   "pygments_lexer": "ipython3",
   "version": "3.8.5"
  }
 },
 "nbformat": 4,
 "nbformat_minor": 4
}
