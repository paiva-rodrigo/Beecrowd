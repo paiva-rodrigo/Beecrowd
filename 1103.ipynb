{
 "cells": [
  {
   "cell_type": "code",
   "execution_count": null,
   "metadata": {},
   "outputs": [],
   "source": []
  },
  {
   "cell_type": "code",
   "execution_count": 10,
   "metadata": {},
   "outputs": [],
   "source": [
    "def variacaoHora(h1,m1,h2,m2):\n",
    "    if (h2>h1):\n",
    "        tot = 60*(h2-h1) + (m2-m1)\n",
    "    elif(h2==h2):\n",
    "        tot = (60-m1+m2)\n",
    "    else:\n",
    "        tot = 60*((24-h1)+h2)\n",
    "        if (m2>=m1):\n",
    "            tot += (m2 - m1)\n",
    "        else:\n",
    "            tot += (60-m1+m2)\n",
    "    \n",
    "    \n",
    "    return tot"
   ]
  },
  {
   "cell_type": "code",
   "execution_count": 11,
   "metadata": {},
   "outputs": [
    {
     "name": "stdout",
     "output_type": "stream",
     "text": [
      "Digite h1:\n",
      "None23\n",
      "Digite M1:\n",
      "None0\n",
      "Digite h2:\n",
      "None1\n",
      "Digite M2:\n",
      "None0\n",
      "Total de minutos  60\n"
     ]
    }
   ],
   "source": [
    "h1 = int(input(print(\"Digite h1:\")))\n",
    "m1 = int(input(print(\"Digite M1:\")))\n",
    "h2 = int(input(print(\"Digite h2:\")))\n",
    "m2 = int(input(print(\"Digite M2:\")))\n",
    "\n",
    "print(\"Total de minutos \", variacaoHora(h1,m1,h2,m2))"
   ]
  },
  {
   "cell_type": "code",
   "execution_count": null,
   "metadata": {},
   "outputs": [],
   "source": []
  },
  {
   "cell_type": "code",
   "execution_count": null,
   "metadata": {},
   "outputs": [],
   "source": []
  },
  {
   "cell_type": "code",
   "execution_count": null,
   "metadata": {},
   "outputs": [],
   "source": []
  }
 ],
 "metadata": {
  "kernelspec": {
   "display_name": "Python 3",
   "language": "python",
   "name": "python3"
  },
  "language_info": {
   "codemirror_mode": {
    "name": "ipython",
    "version": 3
   },
   "file_extension": ".py",
   "mimetype": "text/x-python",
   "name": "python",
   "nbconvert_exporter": "python",
   "pygments_lexer": "ipython3",
   "version": "3.8.5"
  }
 },
 "nbformat": 4,
 "nbformat_minor": 4
}
