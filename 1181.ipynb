{
 "cells": [
  {
   "cell_type": "code",
   "execution_count": null,
   "metadata": {},
   "outputs": [],
   "source": []
  },
  {
   "cell_type": "code",
   "execution_count": null,
   "metadata": {},
   "outputs": [],
   "source": [
    "t = int(input())\n",
    "v = input()\n",
    "matriz =[]\n",
    "for i in range(0,12):\n",
    "    matriz.append([])\n",
    "\n",
    "    \n",
    "for i in range(0,12):\n",
    "    for j in range(0,12):\n",
    "        d = float(input())\n",
    "        matriz[i].append(d)\n",
    "\n",
    "if valor == 'S':\n",
    "    result = 0\n",
    "    for k in m[t]:\n",
    "        result += k\n",
    "    print(result)\n",
    "\n",
    "elif valor == 'M':\n",
    "    med = 0\n",
    "    result = 0\n",
    "    for k in m[t]:\n",
    "        result += k\n",
    "    med= result/12\n",
    "    print(med)"
   ]
  },
  {
   "cell_type": "markdown",
   "metadata": {},
   "source": [
    "-3.5\n",
    "2.5\n",
    "4.1"
   ]
  },
  {
   "cell_type": "code",
   "execution_count": null,
   "metadata": {},
   "outputs": [],
   "source": [
    "l=>t\n",
    "opera->v\n",
    "\n"
   ]
  },
  {
   "cell_type": "code",
   "execution_count": null,
   "metadata": {},
   "outputs": [],
   "source": []
  }
 ],
 "metadata": {
  "kernelspec": {
   "display_name": "Python 3",
   "language": "python",
   "name": "python3"
  },
  "language_info": {
   "codemirror_mode": {
    "name": "ipython",
    "version": 3
   },
   "file_extension": ".py",
   "mimetype": "text/x-python",
   "name": "python",
   "nbconvert_exporter": "python",
   "pygments_lexer": "ipython3",
   "version": "3.8.5"
  }
 },
 "nbformat": 4,
 "nbformat_minor": 4
}
