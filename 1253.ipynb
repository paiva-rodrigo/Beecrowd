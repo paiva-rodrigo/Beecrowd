{
 "cells": [
  {
   "cell_type": "code",
   "execution_count": null,
   "metadata": {},
   "outputs": [],
   "source": []
  },
  {
   "cell_type": "code",
   "execution_count": 1,
   "metadata": {},
   "outputs": [],
   "source": [
    "def Pula(Lista,n):\n",
    "    Lista2 = []\n",
    "    for i in Lista:\n",
    "        if int(ord(i)-n) <= 90 and int(ord(i)-n) >= 65:\n",
    "            Lista2.append(chr(int(ord(i)-n)))\n",
    "        elif int(ord(i)-n) < 65:\n",
    "            Lista2.append(chr(90 -(64-int(ord(i)-n))))\n",
    "    resp = \"\"\n",
    "    for i in Lista2:\n",
    "        resp+=i\n",
    "    return resp"
   ]
  },
  {
   "cell_type": "code",
   "execution_count": null,
   "metadata": {},
   "outputs": [],
   "source": [
    "VQREQFGT\n",
    "2\n",
    "ABCDEFGHIJKLMNOPQRSTUVWXYZ\n",
    "10\n",
    "TOPCODER\n",
    "0\n",
    "ZWBGLZ\n",
    "25\n",
    "DBNPCBQ\n",
    "1\n",
    "LIPPSASVPH\n",
    "4"
   ]
  },
  {
   "cell_type": "code",
   "execution_count": 2,
   "metadata": {},
   "outputs": [
    {
     "name": "stdout",
     "output_type": "stream",
     "text": [
      "1\n",
      "ABCDEFGHIJKLMNOPQRSTUVWXYZ\n",
      "10\n",
      "QRSTUVWXYZABCDEFGHIJKLMNOP\n"
     ]
    }
   ],
   "source": [
    "n = int(input())\n",
    "for i in range(0,n):\n",
    "    st = input()\n",
    "    t = int(input())\n",
    "    lista = []\n",
    "    lista = [dado for dado in st]\n",
    "    Resp =Pula(lista,t)\n",
    "    print(Resp)"
   ]
  },
  {
   "cell_type": "code",
   "execution_count": null,
   "metadata": {},
   "outputs": [],
   "source": [
    "#ord(\"a\") retorna o valor em numero de um caracter\n",
    "#chr(55)  mostra qual caractere está naquela devida posição"
   ]
  },
  {
   "cell_type": "code",
   "execution_count": null,
   "metadata": {},
   "outputs": [],
   "source": [
    "chr(89)"
   ]
  },
  {
   "cell_type": "code",
   "execution_count": null,
   "metadata": {},
   "outputs": [],
   "source": []
  },
  {
   "cell_type": "code",
   "execution_count": null,
   "metadata": {},
   "outputs": [],
   "source": []
  }
 ],
 "metadata": {
  "kernelspec": {
   "display_name": "Python 3",
   "language": "python",
   "name": "python3"
  },
  "language_info": {
   "codemirror_mode": {
    "name": "ipython",
    "version": 3
   },
   "file_extension": ".py",
   "mimetype": "text/x-python",
   "name": "python",
   "nbconvert_exporter": "python",
   "pygments_lexer": "ipython3",
   "version": "3.8.5"
  }
 },
 "nbformat": 4,
 "nbformat_minor": 4
}
