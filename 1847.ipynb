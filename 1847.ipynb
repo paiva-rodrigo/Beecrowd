{
 "cells": [
  {
   "cell_type": "code",
   "execution_count": null,
   "metadata": {},
   "outputs": [],
   "source": []
  },
  {
   "cell_type": "code",
   "execution_count": null,
   "metadata": {},
   "outputs": [],
   "source": [
    "#definido"
   ]
  },
  {
   "cell_type": "code",
   "execution_count": null,
   "metadata": {},
   "outputs": [
    {
     "name": "stdout",
     "output_type": "stream",
     "text": [
      "4 16 20\n",
      ":(\n",
      " 4 10 20\n",
      ":)\n",
      " 20 10 6\n",
      ":)\n",
      " 20 16 4\n",
      ":(\n",
      " 10 10 14\n",
      ":)\n",
      "10 10 2\n",
      ":(\n"
     ]
    }
   ],
   "source": [
    "while(True):\n",
    "    try:\n",
    "        r = input().split()\n",
    "        a=int(r[0])\n",
    "        b=int(r[1])\n",
    "        c=int(r[2])\n",
    "        if a>b and c>=b:\n",
    "            print(\":)\")\n",
    "        elif a<b and c<=b:\n",
    "            print(\":(\")\n",
    "        elif a<b and b<c:\n",
    "            deriv1 = (b-a)\n",
    "            deriv2 = (c-b)\n",
    "            if deriv1>deriv2:\n",
    "                print(\":(\")\n",
    "            else:\n",
    "                print(\":)\")\n",
    "        elif a>b and b>c:\n",
    "            deriv1 = (b-a)\n",
    "            deriv2 = (c-b)\n",
    "            if deriv1>deriv2:\n",
    "                print(\":(\")\n",
    "            else:\n",
    "                print(\":)\")\n",
    "        elif a==b:\n",
    "            if c-b<0: print(\":(\")\n",
    "            else:     print(\":)\")\n",
    "    except EOFError:\n",
    "        break\n",
    "    \n",
    "    \n",
    "        \n",
    "        \n",
    "        \n",
    "        \n",
    "        "
   ]
  },
  {
   "cell_type": "code",
   "execution_count": null,
   "metadata": {},
   "outputs": [],
   "source": []
  },
  {
   "cell_type": "code",
   "execution_count": null,
   "metadata": {},
   "outputs": [],
   "source": []
  },
  {
   "cell_type": "code",
   "execution_count": null,
   "metadata": {},
   "outputs": [],
   "source": []
  },
  {
   "cell_type": "code",
   "execution_count": null,
   "metadata": {},
   "outputs": [],
   "source": []
  },
  {
   "cell_type": "code",
   "execution_count": null,
   "metadata": {},
   "outputs": [],
   "source": []
  },
  {
   "cell_type": "code",
   "execution_count": null,
   "metadata": {},
   "outputs": [],
   "source": []
  }
 ],
 "metadata": {
  "kernelspec": {
   "display_name": "Python 3",
   "language": "python",
   "name": "python3"
  }
 },
 "nbformat": 4,
 "nbformat_minor": 4
}
