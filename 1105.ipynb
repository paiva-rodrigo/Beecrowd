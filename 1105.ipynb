{
 "cells": [
  {
   "cell_type": "code",
   "execution_count": null,
   "metadata": {},
   "outputs": [],
   "source": []
  },
  {
   "cell_type": "code",
   "execution_count": null,
   "metadata": {},
   "outputs": [],
   "source": [
    "reservas = []\n",
    "dados = []\n",
    "dividas = []\n",
    "saldos = []\n",
    "res = []"
   ]
  },
  {
   "cell_type": "code",
   "execution_count": null,
   "metadata": {},
   "outputs": [
    {
     "name": "stdout",
     "output_type": "stream",
     "text": [
      ") \n"
     ]
    }
   ],
   "source": [
    "#parte da coleta de dados\n",
    "B,N = int(input(print(\" \")))\n",
    "for i in range(0,B):\n",
    "        b = int(input(print(\"\")))\n",
    "        re = [B,b]\n",
    "        reservas.append(re)\n",
    "for i in range(0,N):\n",
    "        D = int(input(print()))\n",
    "        C = int(input(print()))\n",
    "        V = int(input(print()))\n",
    "        R = [D,C,V]\n",
    "        dados.append(R)         \n",
    "\n"
   ]
  },
  {
   "cell_type": "code",
   "execution_count": 1,
   "metadata": {},
   "outputs": [],
   "source": [
    "  "
   ]
  },
  {
   "cell_type": "code",
   "execution_count": null,
   "metadata": {},
   "outputs": [],
   "source": [
    "resultado = 0\n",
    "#parte para separar as dividas dos saldos\n",
    "for i in range(0,N):\n",
    "    div = [dados[i][0],dados[i][2]]\n",
    "    dividas.append(div)\n",
    "    sal = [dados[i][1],dados[i][2]]\n",
    "    saldos.append(sal)\n",
    "    \n",
    "#parte para calcular os saldos - dividas\n",
    "for i in range(0,N):    \n",
    "    for j in range(0,N):\n",
    "        if(dividas[i][0]==saldos[j][0]):\n",
    "            resultado = saldos[j][1]-dividas[i][1]\n",
    "            resultado1 = [dividas[i][0],resultado]\n",
    "            res.append(resultado1)\n",
    "            \n",
    "#parte ver se está S ou N, verifica como ficará o saldo do banco\n",
    "for i in range(0,B):\n",
    "    for j in range(0,B):\n",
    "        if (res[i][0] == reservas[j][0]):\n",
    "            f= res[i][0] + reservas[j][0]\n",
    "if(f>=0):\n",
    "    print(\"S\")\n",
    "else:\n",
    "    print(\"N\")\n"
   ]
  },
  {
   "cell_type": "code",
   "execution_count": null,
   "metadata": {},
   "outputs": [],
   "source": []
  },
  {
   "cell_type": "code",
   "execution_count": null,
   "metadata": {},
   "outputs": [],
   "source": []
  },
  {
   "cell_type": "code",
   "execution_count": null,
   "metadata": {},
   "outputs": [],
   "source": []
  }
 ],
 "metadata": {
  "kernelspec": {
   "display_name": "Python 3",
   "language": "python",
   "name": "python3"
  },
  "language_info": {
   "codemirror_mode": {
    "name": "ipython",
    "version": 3
   },
   "file_extension": ".py",
   "mimetype": "text/x-python",
   "name": "python",
   "nbconvert_exporter": "python",
   "pygments_lexer": "ipython3",
   "version": "3.8.5"
  }
 },
 "nbformat": 4,
 "nbformat_minor": 4
}
